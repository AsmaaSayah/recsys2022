{
 "cells": [
  {
   "cell_type": "code",
   "execution_count": 1,
   "metadata": {},
   "outputs": [],
   "source": [
    "import pandas as pd\n",
    "import matplotlib.pyplot as plt\n",
    "import seaborn as sns\n",
    "import os"
   ]
  },
  {
   "cell_type": "code",
   "execution_count": 2,
   "metadata": {},
   "outputs": [],
   "source": [
    "# Define the path to the dataset folder\n",
    "dataset_folder = \"../dataset/original_data/\"\n",
    "\n",
    "\n",
    "# Load datasets\n",
    "train_purchases = pd.read_csv(os.path.join(dataset_folder, \"train_purchases.csv\"))\n",
    "train_sessions = pd.read_csv(os.path.join(dataset_folder, \"train_sessions.csv\"))\n",
    "item_features = pd.read_csv(os.path.join(dataset_folder, \"item_features.csv\"))\n",
    "candidate_items = pd.read_csv(os.path.join(dataset_folder, \"candidate_items.csv\"))\n",
    "test_full_sessions = pd.read_csv(os.path.join(dataset_folder, \"test_full_sessions.csv\"))\n",
    "test_full_purchases = pd.read_csv(os.path.join(dataset_folder, \"test_full_purchases.csv\"))\n",
    "test_leaderboard_sessions = pd.read_csv(os.path.join(dataset_folder, \"test_leaderboard_sessions.csv\"))\n",
    "test_leaderboard_purchases = pd.read_csv(os.path.join(dataset_folder, \"test_leaderboard_purchases.csv\"))\n",
    "test_final_sessions = pd.read_csv(os.path.join(dataset_folder, \"test_final_sessions.csv\"))\n",
    "test_final_purchases = pd.read_csv(os.path.join(dataset_folder, \"test_final_purchases.csv\"))"
   ]
  },
  {
   "cell_type": "code",
   "execution_count": 3,
   "metadata": {},
   "outputs": [
    {
     "name": "stdout",
     "output_type": "stream",
     "text": [
      "Train Purchases:\n",
      "   session_id  item_id                     date\n",
      "0           3    15085  2020-12-18 21:26:47.986\n",
      "1          13    18626  2020-03-13 19:36:15.507\n",
      "2          18    24911  2020-08-26 19:20:32.049\n",
      "3          19    12534   2020-11-02 17:16:45.92\n",
      "4          24    13226  2020-02-26 18:27:44.114\n",
      "\n",
      "Train Sessions:\n",
      "   session_id  item_id                     date\n",
      "0           3     9655  2020-12-18 21:25:00.373\n",
      "1           3     9655  2020-12-18 21:19:48.093\n",
      "2          13    15654  2020-03-13 19:35:27.136\n",
      "3          18    18316  2020-08-26 19:18:30.833\n",
      "4          18     2507  2020-08-26 19:16:31.211\n",
      "\n",
      "Item Features:\n",
      "   item_id  feature_category_id  feature_value_id\n",
      "0        2                   56               365\n",
      "1        2                   62               801\n",
      "2        2                   68               351\n",
      "3        2                   33               802\n",
      "4        2                   72                75\n",
      "\n",
      "Candidate Items:\n",
      "   item_id\n",
      "0        4\n",
      "1        8\n",
      "2        9\n",
      "3       19\n",
      "4       20\n"
     ]
    }
   ],
   "source": [
    "# Data exploration\n",
    "# 1. Initial Inspection\n",
    "print(\"Train Purchases:\")\n",
    "print(train_purchases.head())\n",
    "print(\"\\nTrain Sessions:\")\n",
    "print(train_sessions.head())\n",
    "print(\"\\nItem Features:\")\n",
    "print(item_features.head())\n",
    "print(\"\\nCandidate Items:\")\n",
    "print(candidate_items.head())"
   ]
  },
  {
   "cell_type": "code",
   "execution_count": 5,
   "metadata": {},
   "outputs": [
    {
     "data": {
      "image/png": "[encoded data removed]",
      "text/plain": [
       "<Figure size 720x432 with 1 Axes>"
      ]
     },
     "metadata": {
      "needs_background": "light"
     },
     "output_type": "display_data"
    },
    {
     "name": "stdout",
     "output_type": "stream",
     "text": [
      "Session Length Summary Statistics:\n",
      "count    1000000.000000\n",
      "mean           4.743820\n",
      "std            6.084665\n",
      "min            1.000000\n",
      "25%            1.000000\n",
      "50%            3.000000\n",
      "75%            6.000000\n",
      "max          100.000000\n",
      "dtype: float64\n"
     ]
    }
   ],
   "source": [
    "\n",
    "# Set the figure size\n",
    "plt.figure(figsize=(10, 6))\n",
    "\n",
    "# Plot the histogram\n",
    "train_sessions['date'] = pd.to_datetime(train_sessions['date'])\n",
    "train_sessions['date'].hist()\n",
    "plt.title('Distribution of Sessions Over Time')\n",
    "plt.xlabel('Date')\n",
    "plt.ylabel('Frequency')\n",
    "plt.show()\n",
    "\n",
    "# Summary statistics for session length\n",
    "session_lengths = train_sessions.groupby('session_id').size()\n",
    "print(\"Session Length Summary Statistics:\")\n",
    "print(session_lengths.describe())\n"
   ]
  },
  {
   "cell_type": "code",
   "execution_count": 9,
   "metadata": {},
   "outputs": [
    {
     "name": "stdout",
     "output_type": "stream",
     "text": [
      "Feature Category Counts:\n",
      "56    23691\n",
      "47    23691\n",
      "50    23077\n",
      "68    23038\n",
      "61    22512\n",
      "      ...  \n",
      "52      568\n",
      "54      341\n",
      "9       137\n",
      "13      137\n",
      "27        1\n",
      "Name: feature_category_id, Length: 73, dtype: int64\n"
     ]
    }
   ],
   "source": [
    "# 3. Exploring Item Features\n",
    "# Distribution of feature categories\n",
    "feature_counts = item_features['feature_category_id'].value_counts()\n",
    "print(\"Feature Category Counts:\")\n",
    "print(feature_counts)"
   ]
  },
  {
   "cell_type": "code",
   "execution_count": 10,
   "metadata": {},
   "outputs": [
    {
     "data": {
      "image/png": "[encoded data removed]",
      "text/plain": [
       "<Figure size 432x288 with 1 Axes>"
      ]
     },
     "metadata": {
      "needs_background": "light"
     },
     "output_type": "display_data"
    }
   ],
   "source": [
    "\n",
    "# 4. Session Analysis\n",
    "# Session length distribution\n",
    "session_lengths.hist()\n",
    "plt.title('Distribution of Session Lengths')\n",
    "plt.xlabel('Session Length')\n",
    "plt.ylabel('Frequency')\n",
    "plt.show()"
   ]
  },
  {
   "cell_type": "code",
   "execution_count": 11,
   "metadata": {},
   "outputs": [
    {
     "name": "stdout",
     "output_type": "stream",
     "text": [
      "Number of Candidate Items: 4990\n"
     ]
    }
   ],
   "source": [
    "\n",
    "# 5. Candidate Items\n",
    "print(\"Number of Candidate Items:\", len(candidate_items))"
   ]
  },
  {
   "cell_type": "code",
   "execution_count": 13,
   "metadata": {},
   "outputs": [
    {
     "name": "stdout",
     "output_type": "stream",
     "text": [
      "Test Full Sessions:\n",
      "   session_id  item_id                     date\n",
      "0          26    19185  2021-06-16 09:53:54.158\n",
      "1          61    27088  2021-06-01 08:12:39.664\n",
      "2          61     5581  2021-06-01 08:12:40.534\n",
      "3          96    11693  2021-06-19 17:48:05.227\n",
      "4          96    18298  2021-06-19 17:49:08.589\n",
      "\n",
      "Test Leaderboard Sessions:\n",
      "   session_id  item_id                     date\n",
      "0          26    19185  2021-06-16 09:53:54.158\n",
      "1         200    17089  2021-06-25 12:23:40.811\n",
      "2         200    17089  2021-06-25 12:24:36.631\n",
      "3         200     8060  2021-06-25 12:24:41.677\n",
      "4         200     4758  2021-06-25 12:24:50.692\n",
      "\n",
      "Test Final Sessions:\n",
      "   session_id  item_id                     date\n",
      "0          61    27088  2021-06-01 08:12:39.664\n",
      "1          96    11693  2021-06-19 17:48:05.227\n",
      "2          96    18298  2021-06-19 17:49:08.589\n",
      "3          96     4738  2021-06-19 17:49:15.838\n",
      "4          96      495   2021-06-19 17:49:20.88\n"
     ]
    }
   ],
   "source": [
    "# 6. Test Data Analysis\n",
    "# Distribution of sessions and purchases in test sets\n",
    "print(\"Test Full Sessions:\")\n",
    "print(test_full_sessions.head())\n",
    "print(\"\\nTest Leaderboard Sessions:\")\n",
    "print(test_leaderboard_sessions.head())\n",
    "print(\"\\nTest Final Sessions:\")\n",
    "print(test_final_sessions.head())\n"
   ]
  },
  {
   "cell_type": "code",
   "execution_count": 9,
   "metadata": {},
   "outputs": [
    {
     "name": "stderr",
     "output_type": "stream",
     "text": [
      "/tmp/ipykernel_3097/1447107601.py:47: FutureWarning: Series.dt.weekofyear and Series.dt.week have been deprecated.  Please use Series.dt.isocalendar().week instead.\n",
      "  train_sessions['is_black_friday'] = ((train_sessions['date'].dt.month == 11) & (train_sessions['date'].dt.week >= 47)).astype(int)\n"
     ]
    },
    {
     "ename": "",
     "evalue": "",
     "output_type": "error",
     "traceback": [
      "\u001b[1;31mCannot execute code, session has been disposed. Please try restarting the Kernel."
     ]
    },
    {
     "ename": "",
     "evalue": "",
     "output_type": "error",
     "traceback": [
      "\u001b[1;31mThe Kernel crashed while executing code in the the current cell or a previous cell. Please review the code in the cell(s) to identify a possible cause of the failure. Click <a href='https://aka.ms/vscodeJupyterKernelCrash'>here</a> for more info. View Jupyter <a href='command:jupyter.viewOutput'>log</a> for further details."
     ]
    }
   ],
   "source": [
    "import pandas as pd\n",
    "import numpy as np\n",
    "from sklearn.decomposition import TruncatedSVD\n",
    "\n",
    "dataset_folder=\"../dataset/original_data\"\n",
    "# Load the datasets\n",
    "train_sessions = pd.read_csv(os.path.join(dataset_folder, \"train_sessions.csv\"))\n",
    "# 1. Date Related Features\n",
    "# Convert date column to datetime\n",
    "train_sessions['date'] = pd.to_datetime(train_sessions['date'])\n",
    "\n",
    "# Extract starting and ending DateTime features\n",
    "train_sessions['start_hour'] = train_sessions['date'].dt.hour\n",
    "train_sessions['end_hour'] = (train_sessions['date'] + pd.Timedelta(days=1)).dt.hour\n",
    "train_sessions['start_minute'] = train_sessions['date'].dt.minute\n",
    "train_sessions['end_minute'] = (train_sessions['date'] + pd.Timedelta(days=1)).dt.minute\n",
    "\n",
    "# Apply sine and cosine transformations to capture cyclic nature of time\n",
    "train_sessions['start_hour_sin'] = np.sin(2 * np.pi * train_sessions['start_hour'] / 24)\n",
    "train_sessions['start_hour_cos'] = np.cos(2 * np.pi * train_sessions['start_hour'] / 24)\n",
    "train_sessions['end_hour_sin'] = np.sin(2 * np.pi * train_sessions['end_hour'] / 24)\n",
    "train_sessions['end_hour_cos'] = np.cos(2 * np.pi * train_sessions['end_hour'] / 24)\n",
    "train_sessions['start_minute_sin'] = np.sin(2 * np.pi * train_sessions['start_minute'] / 60)\n",
    "train_sessions['start_minute_cos'] = np.cos(2 * np.pi * train_sessions['start_minute'] / 60)\n",
    "train_sessions['end_minute_sin'] = np.sin(2 * np.pi * train_sessions['end_minute'] / 60)\n",
    "train_sessions['end_minute_cos'] = np.cos(2 * np.pi * train_sessions['end_minute'] / 60)\n",
    "\n",
    "# Drop intermediate columns\n",
    "train_sessions.drop(['start_hour', 'end_hour', 'start_minute', 'end_minute'], axis=1, inplace=True)\n",
    "\n",
    "# 2. Session Properties Features\n",
    "# Number of items seen in the session\n",
    "train_sessions['num_items'] = train_sessions.groupby('session_id')['item_id'].transform('count')\n",
    "\n",
    "# Session length in seconds\n",
    "train_sessions['session_length'] = (train_sessions.groupby('session_id')['date'].transform('max') - train_sessions['date']).dt.total_seconds()\n",
    "\n",
    "# Average time spent looking at an item\n",
    "train_sessions['avg_time_per_item'] = train_sessions['session_length'] / train_sessions['num_items']\n",
    "\n",
    "# User went AFK feature\n",
    "train_sessions['user_went_afk'] = (train_sessions['avg_time_per_item'] > 30 * 60).astype(int)\n",
    "\n",
    "# 3. Special Dates\n",
    "# Example: Encoding Christmas period and Black Friday week as boolean features\n",
    "train_sessions['is_christmas'] = (train_sessions['date'].dt.month == 12).astype(int)\n",
    "train_sessions['is_black_friday'] = ((train_sessions['date'].dt.month == 11) & (train_sessions['date'].dt.week >= 47)).astype(int)\n",
    "\n",
    "# Example: Encoding hot hour between 18:00 and 20:00\n",
    "train_sessions['hot_hour'] = ((train_sessions['date'].dt.hour >= 18) & (train_sessions['date'].dt.hour < 20)).astype(int)\n",
    "\n",
    "# 4. Session Similarity\n",
    "# Example: Using Singular Value Decomposition (SVD) to measure session similarity\n",
    "# Assume 'item_features' contains item feature vectors\n",
    "\n",
    "# Group items seen in each session and construct feature vectors\n",
    "session_item_features = train_sessions.groupby('session_id')['item_id'].apply(lambda x: item_features.loc[x]['feature_value_id'].values)\n",
    "\n",
    "# Stack the feature vectors in columns\n",
    "session_item_features_stacked = pd.DataFrame(session_item_features.tolist(), index=session_item_features.index)\n",
    "\n",
    "# Fill missing values (if any)\n",
    "session_item_features_stacked.fillna(0, inplace=True)\n",
    "\n",
    "# Normalize the feature vectors\n",
    "session_item_features_stacked_normalized = session_item_features_stacked.div(session_item_features_stacked.sum(axis=1), axis=0)\n",
    "\n",
    "# Perform SVD\n",
    "svd = TruncatedSVD(n_components=1, random_state=42)\n",
    "session_similarity = svd.fit_transform(session_item_features_stacked_normalized)\n",
    "\n",
    "# Assign session similarity measure to the original dataframe\n",
    "train_sessions['session_similarity'] = session_similarity\n",
    "\n",
    "# Display the modified dataframe\n",
    "print(train_sessions.head())\n"
   ]
  }
 ],
 "metadata": {
  "kernelspec": {
   "display_name": "Python 3",
   "language": "python",
   "name": "python3"
  },
  "language_info": {
   "codemirror_mode": {
    "name": "ipython",
    "version": 3
   },
   "file_extension": ".py",
   "mimetype": "text/x-python",
   "name": "python",
   "nbconvert_exporter": "python",
   "pygments_lexer": "ipython3",
   "version": "3.10.13"
  }
 },
 "nbformat": 4,
 "nbformat_minor": 2
}
