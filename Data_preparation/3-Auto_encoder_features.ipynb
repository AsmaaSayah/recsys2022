{
  "cells": [
    {
      "cell_type": "code",
      "execution_count": 1,
      "metadata": {},
      "outputs": [],
      "source": [
        "just_checking_integrity=False"
      ]
    },
    {
      "cell_type": "code",
      "execution_count": 2,
      "metadata": {
        "id": "owDtEs6MsTc9"
      },
      "outputs": [
        {
          "name": "stderr",
          "output_type": "stream",
          "text": [
            "2024-02-19 18:16:39.051435: W tensorflow/stream_executor/platform/default/dso_loader.cc:64] Could not load dynamic library 'libcudart.so.11.0'; dlerror: libcudart.so.11.0: cannot open shared object file: No such file or directory\n",
            "2024-02-19 18:16:39.051471: I tensorflow/stream_executor/cuda/cudart_stub.cc:29] Ignore above cudart dlerror if you do not have a GPU set up on your machine.\n"
          ]
        }
      ],
      "source": [
        "import pandas as pd\n",
        "import numpy as np\n",
        "import tensorflow as tf\n",
        "from tensorflow.keras import layers\n",
        "from sklearn.model_selection import train_test_split"
      ]
    },
    {
      "cell_type": "code",
      "execution_count": 3,
      "metadata": {
        "colab": {
          "base_uri": "https://localhost:8080/",
          "height": 206
        },
        "id": "1JyKbD7LtKP-",
        "outputId": "8d4df8b0-4940-4479-9089-0da50588fd15"
      },
      "outputs": [
        {
          "data": {
            "text/html": [
              "<div>\n",
              "<style scoped>\n",
              "    .dataframe tbody tr th:only-of-type {\n",
              "        vertical-align: middle;\n",
              "    }\n",
              "\n",
              "    .dataframe tbody tr th {\n",
              "        vertical-align: top;\n",
              "    }\n",
              "\n",
              "    .dataframe thead th {\n",
              "        text-align: right;\n",
              "    }\n",
              "</style>\n",
              "<table border=\"1\" class=\"dataframe\">\n",
              "  <thead>\n",
              "    <tr style=\"text-align: right;\">\n",
              "      <th></th>\n",
              "      <th>item_id</th>\n",
              "      <th>feature_idx</th>\n",
              "    </tr>\n",
              "  </thead>\n",
              "  <tbody>\n",
              "    <tr>\n",
              "      <th>0</th>\n",
              "      <td>19021</td>\n",
              "      <td>0</td>\n",
              "    </tr>\n",
              "    <tr>\n",
              "      <th>1</th>\n",
              "      <td>19021</td>\n",
              "      <td>22</td>\n",
              "    </tr>\n",
              "    <tr>\n",
              "      <th>2</th>\n",
              "      <td>19021</td>\n",
              "      <td>15</td>\n",
              "    </tr>\n",
              "    <tr>\n",
              "      <th>3</th>\n",
              "      <td>19021</td>\n",
              "      <td>446</td>\n",
              "    </tr>\n",
              "    <tr>\n",
              "      <th>4</th>\n",
              "      <td>19021</td>\n",
              "      <td>1</td>\n",
              "    </tr>\n",
              "  </tbody>\n",
              "</table>\n",
              "</div>"
            ],
            "text/plain": [
              "   item_id  feature_idx\n",
              "0    19021            0\n",
              "1    19021           22\n",
              "2    19021           15\n",
              "3    19021          446\n",
              "4    19021            1"
            ]
          },
          "execution_count": 3,
          "metadata": {},
          "output_type": "execute_result"
        }
      ],
      "source": [
        "items_features = pd.read_csv('../dataset/processed_data/simplified_features_and_categories_30.csv')\n",
        "items_features.head()"
      ]
    },
    {
      "cell_type": "code",
      "execution_count": 4,
      "metadata": {
        "colab": {
          "base_uri": "https://localhost:8080/"
        },
        "id": "0L-2_mkypZIT",
        "outputId": "7e46d3bd-d557-4f21-8550-449e5bbecff5"
      },
      "outputs": [
        {
          "data": {
            "text/plain": [
              "23691"
            ]
          },
          "execution_count": 4,
          "metadata": {},
          "output_type": "execute_result"
        }
      ],
      "source": [
        "items_features['item_id'].max()"
      ]
    },
    {
      "cell_type": "code",
      "execution_count": 5,
      "metadata": {
        "id": "NhWZfcj7z3T4"
      },
      "outputs": [],
      "source": [
        "dataset = np.zeros(\n",
        "    (items_features['item_id'].max()+1, items_features['feature_idx'].max()+1)\n",
        "    )\n",
        "dataset[(items_features['item_id'], items_features['feature_idx'])] = 1\n",
        "\n",
        "dataset\n",
        "train_dataset=dataset[1:,:]"
      ]
    },
    {
      "cell_type": "code",
      "execution_count": 6,
      "metadata": {
        "id": "ZO-qIdyclm-l"
      },
      "outputs": [],
      "source": [
        "from sklearn.model_selection import train_test_split\n",
        "train,test=train_test_split(train_dataset,test_size=0.2,random_state=941116)"
      ]
    },
    {
      "cell_type": "code",
      "execution_count": 7,
      "metadata": {
        "colab": {
          "base_uri": "https://localhost:8080/"
        },
        "id": "gmqXJ3zDB7b0",
        "outputId": "e124f74b-f7b9-4570-db1c-7302f1885980"
      },
      "outputs": [
        {
          "data": {
            "text/plain": [
              "(23692, 636)"
            ]
          },
          "execution_count": 7,
          "metadata": {},
          "output_type": "execute_result"
        }
      ],
      "source": [
        "dataset.shape"
      ]
    },
    {
      "cell_type": "code",
      "execution_count": 8,
      "metadata": {
        "colab": {
          "base_uri": "https://localhost:8080/"
        },
        "id": "poeMvbnyl11j",
        "outputId": "9a7a99d5-d7a7-4041-cb74-956e4218f774"
      },
      "outputs": [
        {
          "data": {
            "text/plain": [
              "(18952, 636)"
            ]
          },
          "execution_count": 8,
          "metadata": {},
          "output_type": "execute_result"
        }
      ],
      "source": [
        "train.shape"
      ]
    },
    {
      "cell_type": "code",
      "execution_count": 9,
      "metadata": {
        "colab": {
          "base_uri": "https://localhost:8080/"
        },
        "id": "yJzyRil8GCth",
        "outputId": "a11dcaab-c116-470f-ed63-d425eeac9ce2"
      },
      "outputs": [
        {
          "data": {
            "text/plain": [
              "(4739, 636)"
            ]
          },
          "execution_count": 9,
          "metadata": {},
          "output_type": "execute_result"
        }
      ],
      "source": [
        "test.shape"
      ]
    },
    {
      "cell_type": "markdown",
      "metadata": {
        "id": "d3nCfuxMKi8X"
      },
      "source": [
        "# Autoencoder"
      ]
    },
    {
      "cell_type": "code",
      "execution_count": 10,
      "metadata": {
        "id": "1RjrcwqVKkvm"
      },
      "outputs": [
        {
          "name": "stderr",
          "output_type": "stream",
          "text": [
            "2024-02-19 18:16:43.904799: W tensorflow/stream_executor/platform/default/dso_loader.cc:64] Could not load dynamic library 'libcuda.so.1'; dlerror: libcuda.so.1: cannot open shared object file: No such file or directory\n",
            "2024-02-19 18:16:43.904833: W tensorflow/stream_executor/cuda/cuda_driver.cc:269] failed call to cuInit: UNKNOWN ERROR (303)\n",
            "2024-02-19 18:16:43.904862: I tensorflow/stream_executor/cuda/cuda_diagnostics.cc:156] kernel driver does not appear to be running on this host (codespaces-0a32aa): /proc/driver/nvidia/version does not exist\n",
            "2024-02-19 18:16:43.905174: I tensorflow/core/platform/cpu_feature_guard.cc:151] This TensorFlow binary is optimized with oneAPI Deep Neural Network Library (oneDNN) to use the following CPU instructions in performance-critical operations:  AVX2 FMA\n",
            "To enable them in other operations, rebuild TensorFlow with the appropriate compiler flags.\n"
          ]
        }
      ],
      "source": [
        "latent_dimension = 64\n",
        "starting_dimension = 512\n",
        "\n",
        "inputs = layers.Input(int(items_features['feature_idx'].max()+1))\n",
        "\n",
        "x = inputs \n",
        "dimension = starting_dimension\n",
        "\n",
        "while(dimension != latent_dimension):\n",
        "    #x = layers.BatchNormalization()(x)\n",
        "    x = layers.Dense(units=dimension, activation='gelu',activity_regularizer=tf.keras.regularizers.L1L2(l1=1e-5,l2=1e-5))(x)\n",
        "    x = layers.Dropout(0.1)(x)\n",
        "\n",
        "    dimension = dimension//2\n",
        "\n",
        "x = layers.Dense(units=dimension,activation=\"tanh\",activity_regularizer=tf.keras.regularizers.L1L2(l1=5e-5,l2=4e-4))(x)\n",
        "outputs = x\n",
        "encoder = tf.keras.Model(inputs=inputs, outputs=outputs, name='encoder')"
      ]
    },
    {
      "cell_type": "code",
      "execution_count": 11,
      "metadata": {
        "id": "ZBxWYv-JL06x"
      },
      "outputs": [],
      "source": [
        "max_width = 1024\n",
        "ending_dimension = items_features['feature_idx'].max()+1\n",
        "\n",
        "inputs = layers.Input(latent_dimension)\n",
        "\n",
        "x = inputs \n",
        "dimension = latent_dimension\n",
        "\n",
        "x = layers.Dense(units=256, activation='gelu',activity_regularizer=tf.keras.regularizers.L1L2(l1=1e-5,l2=1e-5))(x)\n",
        "x = layers.Dropout(0.1)(x)\n",
        "x = layers.Dense(units=512, activation='gelu',activity_regularizer=tf.keras.regularizers.L1L2(l1=1e-5,l2=1e-5))(x)\n",
        "x = layers.Dropout(0.2)(x)\n",
        "    \n",
        "\n",
        "x = layers.Dense(units=ending_dimension,activation=\"sigmoid\")(x)\n",
        "outputs = x\n",
        "\n",
        "decoder = tf.keras.Model(inputs=inputs, outputs=outputs, name='decoder')\n",
        "\n",
        "#decoder.summary()"
      ]
    },
    {
      "cell_type": "code",
      "execution_count": 12,
      "metadata": {
        "id": "XoCB5g0EL7sI"
      },
      "outputs": [
        {
          "name": "stdout",
          "output_type": "stream",
          "text": [
            "Model: \"auto_encoder\"\n",
            "_________________________________________________________________\n",
            " Layer (type)                Output Shape              Param #   \n",
            "=================================================================\n",
            " input_1 (InputLayer)        [(None, 636)]             0         \n",
            "                                                                 \n",
            " dense (Dense)               (None, 512)               326144    \n",
            "                                                                 \n",
            " dropout (Dropout)           (None, 512)               0         \n",
            "                                                                 \n",
            " dense_1 (Dense)             (None, 256)               131328    \n",
            "                                                                 \n",
            " dropout_1 (Dropout)         (None, 256)               0         \n",
            "                                                                 \n",
            " dense_2 (Dense)             (None, 128)               32896     \n",
            "                                                                 \n",
            " dropout_2 (Dropout)         (None, 128)               0         \n",
            "                                                                 \n",
            " dense_3 (Dense)             (None, 64)                8256      \n",
            "                                                                 \n",
            " decoder (Functional)        (None, 636)               474492    \n",
            "                                                                 \n",
            "=================================================================\n",
            "Total params: 973,116\n",
            "Trainable params: 973,116\n",
            "Non-trainable params: 0\n",
            "_________________________________________________________________\n"
          ]
        }
      ],
      "source": [
        "ae = tf.keras.Model(inputs=encoder.inputs, outputs=decoder(encoder.outputs), name='auto_encoder')\n",
        "ae.summary()"
      ]
    },
    {
      "cell_type": "code",
      "execution_count": 13,
      "metadata": {
        "id": "z0LDKqMkMOtK"
      },
      "outputs": [],
      "source": [
        "def custom_loss(x_true,x_pred):\n",
        "    return tf.keras.losses.cosine_similarity(x_true,x_pred)+tf.keras.losses.mean_squared_error(x_true,x_pred)#"
      ]
    },
    {
      "cell_type": "code",
      "execution_count": 14,
      "metadata": {
        "id": "MP0KJxaGMNuZ"
      },
      "outputs": [],
      "source": [
        "ae.compile(\n",
        "    optimizer=tf.keras.optimizers.Adamax(learning_rate=0.006), \n",
        "    loss=custom_loss,\n",
        "    metrics=[tf.keras.metrics.CosineSimilarity(),tf.keras.metrics.MeanAbsoluteError()]\n",
        "    )"
      ]
    },
    {
      "cell_type": "markdown",
      "metadata": {
        "id": "YrLisRiO73WY"
      },
      "source": [
        "# Training"
      ]
    },
    {
      "cell_type": "code",
      "execution_count": 15,
      "metadata": {
        "colab": {
          "base_uri": "https://localhost:8080/"
        },
        "id": "k66RodSl71Ya",
        "outputId": "552b3658-298f-41a7-c1c9-530461918164"
      },
      "outputs": [
        {
          "name": "stderr",
          "output_type": "stream",
          "text": [
            "2024-02-19 18:16:44.647966: W tensorflow/core/framework/cpu_allocator_impl.cc:82] Allocation of 48213888 exceeds 10% of free system memory.\n",
            "2024-02-19 18:16:44.755237: W tensorflow/core/framework/cpu_allocator_impl.cc:82] Allocation of 48213888 exceeds 10% of free system memory.\n"
          ]
        },
        {
          "name": "stdout",
          "output_type": "stream",
          "text": [
            "Epoch 1/200\n",
            "297/297 [==============================] - 6s 13ms/step - loss: -0.7641 - cosine_similarity: 0.8002 - mean_absolute_error: 0.0484 - val_loss: -0.8530 - val_cosine_similarity: 0.8767 - val_mean_absolute_error: 0.0300 - lr: 0.0060\n",
            "Epoch 2/200\n",
            "297/297 [==============================] - 3s 12ms/step - loss: -0.8570 - cosine_similarity: 0.8796 - mean_absolute_error: 0.0294 - val_loss: -0.8758 - val_cosine_similarity: 0.8960 - val_mean_absolute_error: 0.0252 - lr: 0.0060\n",
            "Epoch 3/200\n",
            "297/297 [==============================] - 3s 12ms/step - loss: -0.8747 - cosine_similarity: 0.8948 - mean_absolute_error: 0.0260 - val_loss: -0.8924 - val_cosine_similarity: 0.9107 - val_mean_absolute_error: 0.0223 - lr: 0.0060\n",
            "Epoch 4/200\n",
            "297/297 [==============================] - 3s 11ms/step - loss: -0.8887 - cosine_similarity: 0.9072 - mean_absolute_error: 0.0232 - val_loss: -0.9044 - val_cosine_similarity: 0.9211 - val_mean_absolute_error: 0.0204 - lr: 0.0060\n",
            "Epoch 5/200\n",
            "297/297 [==============================] - 3s 12ms/step - loss: -0.8970 - cosine_similarity: 0.9145 - mean_absolute_error: 0.0214 - val_loss: -0.9097 - val_cosine_similarity: 0.9256 - val_mean_absolute_error: 0.0190 - lr: 0.0060\n",
            "Epoch 6/200\n",
            "297/297 [==============================] - 3s 12ms/step - loss: -0.9037 - cosine_similarity: 0.9203 - mean_absolute_error: 0.0200 - val_loss: -0.9172 - val_cosine_similarity: 0.9320 - val_mean_absolute_error: 0.0180 - lr: 0.0060\n",
            "Epoch 7/200\n",
            "297/297 [==============================] - 3s 11ms/step - loss: -0.9092 - cosine_similarity: 0.9251 - mean_absolute_error: 0.0190 - val_loss: -0.9207 - val_cosine_similarity: 0.9352 - val_mean_absolute_error: 0.0170 - lr: 0.0060\n",
            "Epoch 8/200\n",
            "297/297 [==============================] - 4s 12ms/step - loss: -0.9143 - cosine_similarity: 0.9296 - mean_absolute_error: 0.0180 - val_loss: -0.9279 - val_cosine_similarity: 0.9413 - val_mean_absolute_error: 0.0156 - lr: 0.0060\n",
            "Epoch 9/200\n",
            "297/297 [==============================] - 3s 12ms/step - loss: -0.9186 - cosine_similarity: 0.9333 - mean_absolute_error: 0.0171 - val_loss: -0.9306 - val_cosine_similarity: 0.9439 - val_mean_absolute_error: 0.0144 - lr: 0.0060\n",
            "Epoch 10/200\n",
            "297/297 [==============================] - 3s 11ms/step - loss: -0.9228 - cosine_similarity: 0.9370 - mean_absolute_error: 0.0162 - val_loss: -0.9343 - val_cosine_similarity: 0.9470 - val_mean_absolute_error: 0.0141 - lr: 0.0060\n",
            "Epoch 11/200\n",
            "297/297 [==============================] - 4s 12ms/step - loss: -0.9254 - cosine_similarity: 0.9392 - mean_absolute_error: 0.0157 - val_loss: -0.9371 - val_cosine_similarity: 0.9495 - val_mean_absolute_error: 0.0130 - lr: 0.0060\n",
            "Epoch 12/200\n",
            "297/297 [==============================] - 3s 11ms/step - loss: -0.9283 - cosine_similarity: 0.9418 - mean_absolute_error: 0.0150 - val_loss: -0.9387 - val_cosine_similarity: 0.9510 - val_mean_absolute_error: 0.0130 - lr: 0.0060\n",
            "Epoch 13/200\n",
            "297/297 [==============================] - 4s 12ms/step - loss: -0.9306 - cosine_similarity: 0.9437 - mean_absolute_error: 0.0145 - val_loss: -0.9422 - val_cosine_similarity: 0.9538 - val_mean_absolute_error: 0.0122 - lr: 0.0060\n",
            "Epoch 14/200\n",
            "297/297 [==============================] - 4s 12ms/step - loss: -0.9327 - cosine_similarity: 0.9455 - mean_absolute_error: 0.0141 - val_loss: -0.9429 - val_cosine_similarity: 0.9544 - val_mean_absolute_error: 0.0119 - lr: 0.0060\n",
            "Epoch 15/200\n",
            "297/297 [==============================] - 3s 11ms/step - loss: -0.9351 - cosine_similarity: 0.9476 - mean_absolute_error: 0.0136 - val_loss: -0.9456 - val_cosine_similarity: 0.9568 - val_mean_absolute_error: 0.0113 - lr: 0.0060\n",
            "Epoch 16/200\n",
            "297/297 [==============================] - 3s 12ms/step - loss: -0.9366 - cosine_similarity: 0.9489 - mean_absolute_error: 0.0132 - val_loss: -0.9466 - val_cosine_similarity: 0.9577 - val_mean_absolute_error: 0.0108 - lr: 0.0060\n",
            "Epoch 17/200\n",
            "297/297 [==============================] - 4s 12ms/step - loss: -0.9382 - cosine_similarity: 0.9503 - mean_absolute_error: 0.0129 - val_loss: -0.9487 - val_cosine_similarity: 0.9594 - val_mean_absolute_error: 0.0104 - lr: 0.0060\n",
            "Epoch 18/200\n",
            "297/297 [==============================] - 3s 11ms/step - loss: -0.9394 - cosine_similarity: 0.9513 - mean_absolute_error: 0.0126 - val_loss: -0.9497 - val_cosine_similarity: 0.9603 - val_mean_absolute_error: 0.0103 - lr: 0.0060\n",
            "Epoch 19/200\n",
            "297/297 [==============================] - 4s 12ms/step - loss: -0.9404 - cosine_similarity: 0.9522 - mean_absolute_error: 0.0124 - val_loss: -0.9507 - val_cosine_similarity: 0.9611 - val_mean_absolute_error: 0.0099 - lr: 0.0060\n",
            "Epoch 20/200\n",
            "297/297 [==============================] - 3s 12ms/step - loss: -0.9420 - cosine_similarity: 0.9535 - mean_absolute_error: 0.0121 - val_loss: -0.9515 - val_cosine_similarity: 0.9619 - val_mean_absolute_error: 0.0098 - lr: 0.0060\n",
            "Epoch 21/200\n",
            "297/297 [==============================] - 3s 11ms/step - loss: -0.9433 - cosine_similarity: 0.9547 - mean_absolute_error: 0.0118 - val_loss: -0.9530 - val_cosine_similarity: 0.9630 - val_mean_absolute_error: 0.0098 - lr: 0.0060\n",
            "Epoch 22/200\n",
            "297/297 [==============================] - 3s 12ms/step - loss: -0.9444 - cosine_similarity: 0.9556 - mean_absolute_error: 0.0116 - val_loss: -0.9543 - val_cosine_similarity: 0.9642 - val_mean_absolute_error: 0.0094 - lr: 0.0060\n",
            "Epoch 23/200\n",
            "297/297 [==============================] - 3s 11ms/step - loss: -0.9451 - cosine_similarity: 0.9562 - mean_absolute_error: 0.0114 - val_loss: -0.9543 - val_cosine_similarity: 0.9642 - val_mean_absolute_error: 0.0094 - lr: 0.0060\n",
            "Epoch 24/200\n",
            "297/297 [==============================] - 3s 12ms/step - loss: -0.9457 - cosine_similarity: 0.9567 - mean_absolute_error: 0.0112 - val_loss: -0.9550 - val_cosine_similarity: 0.9649 - val_mean_absolute_error: 0.0090 - lr: 0.0060\n",
            "Epoch 25/200\n",
            "297/297 [==============================] - 3s 12ms/step - loss: -0.9468 - cosine_similarity: 0.9576 - mean_absolute_error: 0.0110 - val_loss: -0.9554 - val_cosine_similarity: 0.9651 - val_mean_absolute_error: 0.0089 - lr: 0.0060\n",
            "Epoch 26/200\n",
            "297/297 [==============================] - 3s 12ms/step - loss: -0.9473 - cosine_similarity: 0.9581 - mean_absolute_error: 0.0108 - val_loss: -0.9560 - val_cosine_similarity: 0.9657 - val_mean_absolute_error: 0.0087 - lr: 0.0060\n",
            "Epoch 27/200\n",
            "297/297 [==============================] - 3s 12ms/step - loss: -0.9483 - cosine_similarity: 0.9590 - mean_absolute_error: 0.0106 - val_loss: -0.9579 - val_cosine_similarity: 0.9673 - val_mean_absolute_error: 0.0084 - lr: 0.0060\n",
            "Epoch 28/200\n",
            "297/297 [==============================] - 3s 12ms/step - loss: -0.9491 - cosine_similarity: 0.9596 - mean_absolute_error: 0.0105 - val_loss: -0.9580 - val_cosine_similarity: 0.9675 - val_mean_absolute_error: 0.0082 - lr: 0.0060\n",
            "Epoch 29/200\n",
            "297/297 [==============================] - 3s 12ms/step - loss: -0.9499 - cosine_similarity: 0.9603 - mean_absolute_error: 0.0103 - val_loss: -0.9585 - val_cosine_similarity: 0.9678 - val_mean_absolute_error: 0.0082 - lr: 0.0060\n",
            "Epoch 30/200\n",
            "297/297 [==============================] - 3s 11ms/step - loss: -0.9502 - cosine_similarity: 0.9606 - mean_absolute_error: 0.0102 - val_loss: -0.9589 - val_cosine_similarity: 0.9682 - val_mean_absolute_error: 0.0079 - lr: 0.0060\n",
            "Epoch 31/200\n",
            "297/297 [==============================] - 3s 11ms/step - loss: -0.9503 - cosine_similarity: 0.9607 - mean_absolute_error: 0.0101 - val_loss: -0.9590 - val_cosine_similarity: 0.9681 - val_mean_absolute_error: 0.0080 - lr: 0.0060\n",
            "Epoch 32/200\n",
            "297/297 [==============================] - 4s 12ms/step - loss: -0.9516 - cosine_similarity: 0.9618 - mean_absolute_error: 0.0099 - val_loss: -0.9595 - val_cosine_similarity: 0.9686 - val_mean_absolute_error: 0.0081 - lr: 0.0060\n",
            "Epoch 33/200\n",
            "297/297 [==============================] - 3s 12ms/step - loss: -0.9519 - cosine_similarity: 0.9620 - mean_absolute_error: 0.0098 - val_loss: -0.9600 - val_cosine_similarity: 0.9691 - val_mean_absolute_error: 0.0078 - lr: 0.0060\n",
            "Epoch 34/200\n",
            "297/297 [==============================] - 3s 12ms/step - loss: -0.9523 - cosine_similarity: 0.9624 - mean_absolute_error: 0.0097 - val_loss: -0.9604 - val_cosine_similarity: 0.9694 - val_mean_absolute_error: 0.0077 - lr: 0.0060\n",
            "Epoch 35/200\n",
            "297/297 [==============================] - 4s 12ms/step - loss: -0.9524 - cosine_similarity: 0.9625 - mean_absolute_error: 0.0096 - val_loss: -0.9609 - val_cosine_similarity: 0.9698 - val_mean_absolute_error: 0.0075 - lr: 0.0060\n",
            "Epoch 36/200\n",
            "297/297 [==============================] - 3s 12ms/step - loss: -0.9534 - cosine_similarity: 0.9634 - mean_absolute_error: 0.0094 - val_loss: -0.9613 - val_cosine_similarity: 0.9702 - val_mean_absolute_error: 0.0075 - lr: 0.0060\n",
            "Epoch 37/200\n",
            "297/297 [==============================] - 3s 11ms/step - loss: -0.9539 - cosine_similarity: 0.9638 - mean_absolute_error: 0.0093 - val_loss: -0.9618 - val_cosine_similarity: 0.9706 - val_mean_absolute_error: 0.0074 - lr: 0.0060\n",
            "Epoch 38/200\n",
            "297/297 [==============================] - 4s 12ms/step - loss: -0.9541 - cosine_similarity: 0.9639 - mean_absolute_error: 0.0093 - val_loss: -0.9611 - val_cosine_similarity: 0.9701 - val_mean_absolute_error: 0.0073 - lr: 0.0060\n",
            "Epoch 39/200\n",
            "297/297 [==============================] - 3s 11ms/step - loss: -0.9547 - cosine_similarity: 0.9644 - mean_absolute_error: 0.0092 - val_loss: -0.9622 - val_cosine_similarity: 0.9709 - val_mean_absolute_error: 0.0071 - lr: 0.0060\n",
            "Epoch 40/200\n",
            "297/297 [==============================] - 3s 11ms/step - loss: -0.9552 - cosine_similarity: 0.9648 - mean_absolute_error: 0.0091 - val_loss: -0.9627 - val_cosine_similarity: 0.9713 - val_mean_absolute_error: 0.0071 - lr: 0.0060\n",
            "Epoch 41/200\n",
            "297/297 [==============================] - 4s 12ms/step - loss: -0.9555 - cosine_similarity: 0.9651 - mean_absolute_error: 0.0090 - val_loss: -0.9622 - val_cosine_similarity: 0.9708 - val_mean_absolute_error: 0.0072 - lr: 0.0060\n",
            "Epoch 42/200\n",
            "297/297 [==============================] - 3s 12ms/step - loss: -0.9558 - cosine_similarity: 0.9654 - mean_absolute_error: 0.0089 - val_loss: -0.9628 - val_cosine_similarity: 0.9714 - val_mean_absolute_error: 0.0071 - lr: 0.0060\n",
            "Epoch 43/200\n",
            "297/297 [==============================] - 3s 12ms/step - loss: -0.9561 - cosine_similarity: 0.9656 - mean_absolute_error: 0.0088 - val_loss: -0.9634 - val_cosine_similarity: 0.9720 - val_mean_absolute_error: 0.0069 - lr: 0.0060\n",
            "Epoch 44/200\n",
            "297/297 [==============================] - 4s 12ms/step - loss: -0.9565 - cosine_similarity: 0.9660 - mean_absolute_error: 0.0087 - val_loss: -0.9637 - val_cosine_similarity: 0.9722 - val_mean_absolute_error: 0.0068 - lr: 0.0060\n",
            "Epoch 45/200\n",
            "297/297 [==============================] - 3s 11ms/step - loss: -0.9570 - cosine_similarity: 0.9664 - mean_absolute_error: 0.0086 - val_loss: -0.9638 - val_cosine_similarity: 0.9722 - val_mean_absolute_error: 0.0068 - lr: 0.0060\n",
            "Epoch 46/200\n",
            "297/297 [==============================] - 3s 12ms/step - loss: -0.9572 - cosine_similarity: 0.9666 - mean_absolute_error: 0.0086 - val_loss: -0.9646 - val_cosine_similarity: 0.9731 - val_mean_absolute_error: 0.0065 - lr: 0.0060\n",
            "Epoch 47/200\n",
            "297/297 [==============================] - 4s 12ms/step - loss: -0.9574 - cosine_similarity: 0.9667 - mean_absolute_error: 0.0085 - val_loss: -0.9645 - val_cosine_similarity: 0.9729 - val_mean_absolute_error: 0.0066 - lr: 0.0060\n",
            "Epoch 48/200\n",
            "297/297 [==============================] - 4s 13ms/step - loss: -0.9580 - cosine_similarity: 0.9672 - mean_absolute_error: 0.0084 - val_loss: -0.9648 - val_cosine_similarity: 0.9730 - val_mean_absolute_error: 0.0066 - lr: 0.0060\n",
            "Epoch 49/200\n",
            "297/297 [==============================] - 4s 13ms/step - loss: -0.9608 - cosine_similarity: 0.9697 - mean_absolute_error: 0.0080 - val_loss: -0.9668 - val_cosine_similarity: 0.9749 - val_mean_absolute_error: 0.0062 - lr: 0.0042\n",
            "Epoch 50/200\n",
            "297/297 [==============================] - 5s 18ms/step - loss: -0.9615 - cosine_similarity: 0.9703 - mean_absolute_error: 0.0079 - val_loss: -0.9674 - val_cosine_similarity: 0.9753 - val_mean_absolute_error: 0.0062 - lr: 0.0042\n",
            "Epoch 51/200\n",
            "297/297 [==============================] - 6s 19ms/step - loss: -0.9619 - cosine_similarity: 0.9706 - mean_absolute_error: 0.0078 - val_loss: -0.9675 - val_cosine_similarity: 0.9754 - val_mean_absolute_error: 0.0061 - lr: 0.0042\n",
            "Epoch 52/200\n",
            "297/297 [==============================] - 6s 19ms/step - loss: -0.9621 - cosine_similarity: 0.9707 - mean_absolute_error: 0.0077 - val_loss: -0.9676 - val_cosine_similarity: 0.9755 - val_mean_absolute_error: 0.0060 - lr: 0.0042\n",
            "Epoch 53/200\n",
            "297/297 [==============================] - 4s 12ms/step - loss: -0.9621 - cosine_similarity: 0.9707 - mean_absolute_error: 0.0077 - val_loss: -0.9678 - val_cosine_similarity: 0.9757 - val_mean_absolute_error: 0.0059 - lr: 0.0042\n",
            "Epoch 54/200\n",
            "297/297 [==============================] - 4s 12ms/step - loss: -0.9626 - cosine_similarity: 0.9712 - mean_absolute_error: 0.0076 - val_loss: -0.9683 - val_cosine_similarity: 0.9761 - val_mean_absolute_error: 0.0059 - lr: 0.0042\n",
            "Epoch 55/200\n",
            "297/297 [==============================] - 3s 12ms/step - loss: -0.9627 - cosine_similarity: 0.9713 - mean_absolute_error: 0.0076 - val_loss: -0.9680 - val_cosine_similarity: 0.9758 - val_mean_absolute_error: 0.0060 - lr: 0.0042\n",
            "Epoch 56/200\n",
            "297/297 [==============================] - 3s 11ms/step - loss: -0.9629 - cosine_similarity: 0.9714 - mean_absolute_error: 0.0076 - val_loss: -0.9686 - val_cosine_similarity: 0.9764 - val_mean_absolute_error: 0.0059 - lr: 0.0042\n",
            "Epoch 57/200\n",
            "297/297 [==============================] - 4s 12ms/step - loss: -0.9632 - cosine_similarity: 0.9717 - mean_absolute_error: 0.0075 - val_loss: -0.9687 - val_cosine_similarity: 0.9763 - val_mean_absolute_error: 0.0058 - lr: 0.0042\n",
            "Epoch 58/200\n",
            "297/297 [==============================] - 3s 12ms/step - loss: -0.9637 - cosine_similarity: 0.9721 - mean_absolute_error: 0.0074 - val_loss: -0.9685 - val_cosine_similarity: 0.9762 - val_mean_absolute_error: 0.0058 - lr: 0.0042\n",
            "Epoch 59/200\n",
            "297/297 [==============================] - 3s 12ms/step - loss: -0.9654 - cosine_similarity: 0.9736 - mean_absolute_error: 0.0071 - val_loss: -0.9702 - val_cosine_similarity: 0.9776 - val_mean_absolute_error: 0.0057 - lr: 0.0029\n",
            "Epoch 60/200\n",
            "297/297 [==============================] - 4s 12ms/step - loss: -0.9657 - cosine_similarity: 0.9738 - mean_absolute_error: 0.0071 - val_loss: -0.9705 - val_cosine_similarity: 0.9779 - val_mean_absolute_error: 0.0055 - lr: 0.0029\n",
            "Epoch 61/200\n",
            "297/297 [==============================] - 3s 11ms/step - loss: -0.9660 - cosine_similarity: 0.9741 - mean_absolute_error: 0.0071 - val_loss: -0.9704 - val_cosine_similarity: 0.9778 - val_mean_absolute_error: 0.0055 - lr: 0.0029\n",
            "Epoch 62/200\n",
            "297/297 [==============================] - 4s 12ms/step - loss: -0.9663 - cosine_similarity: 0.9743 - mean_absolute_error: 0.0070 - val_loss: -0.9707 - val_cosine_similarity: 0.9781 - val_mean_absolute_error: 0.0054 - lr: 0.0029\n",
            "Epoch 63/200\n",
            "297/297 [==============================] - 3s 11ms/step - loss: -0.9664 - cosine_similarity: 0.9744 - mean_absolute_error: 0.0070 - val_loss: -0.9707 - val_cosine_similarity: 0.9781 - val_mean_absolute_error: 0.0054 - lr: 0.0029\n",
            "Epoch 64/200\n",
            "297/297 [==============================] - 3s 11ms/step - loss: -0.9667 - cosine_similarity: 0.9747 - mean_absolute_error: 0.0069 - val_loss: -0.9712 - val_cosine_similarity: 0.9785 - val_mean_absolute_error: 0.0054 - lr: 0.0029\n",
            "Epoch 65/200\n",
            "297/297 [==============================] - 4s 12ms/step - loss: -0.9665 - cosine_similarity: 0.9745 - mean_absolute_error: 0.0069 - val_loss: -0.9711 - val_cosine_similarity: 0.9784 - val_mean_absolute_error: 0.0053 - lr: 0.0029\n",
            "Epoch 66/200\n",
            "297/297 [==============================] - 3s 12ms/step - loss: -0.9666 - cosine_similarity: 0.9746 - mean_absolute_error: 0.0069 - val_loss: -0.9714 - val_cosine_similarity: 0.9786 - val_mean_absolute_error: 0.0054 - lr: 0.0029\n",
            "Epoch 67/200\n",
            "297/297 [==============================] - 3s 12ms/step - loss: -0.9680 - cosine_similarity: 0.9758 - mean_absolute_error: 0.0067 - val_loss: -0.9720 - val_cosine_similarity: 0.9791 - val_mean_absolute_error: 0.0052 - lr: 0.0021\n",
            "Epoch 68/200\n",
            "297/297 [==============================] - 4s 12ms/step - loss: -0.9684 - cosine_similarity: 0.9761 - mean_absolute_error: 0.0066 - val_loss: -0.9721 - val_cosine_similarity: 0.9792 - val_mean_absolute_error: 0.0051 - lr: 0.0021\n",
            "Epoch 69/200\n",
            "297/297 [==============================] - 3s 12ms/step - loss: -0.9684 - cosine_similarity: 0.9761 - mean_absolute_error: 0.0066 - val_loss: -0.9724 - val_cosine_similarity: 0.9794 - val_mean_absolute_error: 0.0052 - lr: 0.0021\n",
            "Epoch 70/200\n",
            "297/297 [==============================] - 3s 11ms/step - loss: -0.9687 - cosine_similarity: 0.9763 - mean_absolute_error: 0.0066 - val_loss: -0.9725 - val_cosine_similarity: 0.9795 - val_mean_absolute_error: 0.0052 - lr: 0.0021\n",
            "Epoch 71/200\n",
            "297/297 [==============================] - 3s 12ms/step - loss: -0.9688 - cosine_similarity: 0.9765 - mean_absolute_error: 0.0065 - val_loss: -0.9726 - val_cosine_similarity: 0.9796 - val_mean_absolute_error: 0.0052 - lr: 0.0021\n",
            "Epoch 72/200\n",
            "297/297 [==============================] - 3s 11ms/step - loss: -0.9690 - cosine_similarity: 0.9766 - mean_absolute_error: 0.0065 - val_loss: -0.9729 - val_cosine_similarity: 0.9798 - val_mean_absolute_error: 0.0052 - lr: 0.0021\n",
            "Epoch 73/200\n",
            "297/297 [==============================] - 3s 11ms/step - loss: -0.9692 - cosine_similarity: 0.9768 - mean_absolute_error: 0.0065 - val_loss: -0.9730 - val_cosine_similarity: 0.9800 - val_mean_absolute_error: 0.0050 - lr: 0.0021\n",
            "Epoch 74/200\n",
            "297/297 [==============================] - 4s 12ms/step - loss: -0.9693 - cosine_similarity: 0.9769 - mean_absolute_error: 0.0065 - val_loss: -0.9731 - val_cosine_similarity: 0.9801 - val_mean_absolute_error: 0.0050 - lr: 0.0021\n",
            "Epoch 75/200\n",
            "297/297 [==============================] - 3s 11ms/step - loss: -0.9693 - cosine_similarity: 0.9769 - mean_absolute_error: 0.0065 - val_loss: -0.9732 - val_cosine_similarity: 0.9801 - val_mean_absolute_error: 0.0050 - lr: 0.0021\n",
            "Epoch 76/200\n",
            "297/297 [==============================] - 3s 12ms/step - loss: -0.9694 - cosine_similarity: 0.9769 - mean_absolute_error: 0.0065 - val_loss: -0.9734 - val_cosine_similarity: 0.9803 - val_mean_absolute_error: 0.0050 - lr: 0.0021\n",
            "Epoch 77/200\n",
            "297/297 [==============================] - 4s 12ms/step - loss: -0.9699 - cosine_similarity: 0.9774 - mean_absolute_error: 0.0064 - val_loss: -0.9731 - val_cosine_similarity: 0.9801 - val_mean_absolute_error: 0.0050 - lr: 0.0021\n",
            "Epoch 78/200\n",
            "297/297 [==============================] - 3s 12ms/step - loss: -0.9699 - cosine_similarity: 0.9774 - mean_absolute_error: 0.0064 - val_loss: -0.9735 - val_cosine_similarity: 0.9804 - val_mean_absolute_error: 0.0049 - lr: 0.0021\n",
            "Epoch 79/200\n",
            "297/297 [==============================] - 4s 12ms/step - loss: -0.9701 - cosine_similarity: 0.9775 - mean_absolute_error: 0.0063 - val_loss: -0.9736 - val_cosine_similarity: 0.9805 - val_mean_absolute_error: 0.0049 - lr: 0.0021\n",
            "Epoch 80/200\n",
            "297/297 [==============================] - 3s 11ms/step - loss: -0.9700 - cosine_similarity: 0.9775 - mean_absolute_error: 0.0063 - val_loss: -0.9738 - val_cosine_similarity: 0.9806 - val_mean_absolute_error: 0.0050 - lr: 0.0021\n",
            "Epoch 81/200\n",
            "297/297 [==============================] - 3s 11ms/step - loss: -0.9702 - cosine_similarity: 0.9776 - mean_absolute_error: 0.0063 - val_loss: -0.9738 - val_cosine_similarity: 0.9806 - val_mean_absolute_error: 0.0049 - lr: 0.0021\n",
            "Epoch 82/200\n",
            "297/297 [==============================] - 3s 12ms/step - loss: -0.9708 - cosine_similarity: 0.9781 - mean_absolute_error: 0.0062 - val_loss: -0.9744 - val_cosine_similarity: 0.9811 - val_mean_absolute_error: 0.0047 - lr: 0.0014\n",
            "Epoch 83/200\n",
            "297/297 [==============================] - 4s 12ms/step - loss: -0.9711 - cosine_similarity: 0.9784 - mean_absolute_error: 0.0062 - val_loss: -0.9744 - val_cosine_similarity: 0.9811 - val_mean_absolute_error: 0.0049 - lr: 0.0014\n",
            "Epoch 84/200\n",
            "297/297 [==============================] - 4s 12ms/step - loss: -0.9712 - cosine_similarity: 0.9785 - mean_absolute_error: 0.0061 - val_loss: -0.9745 - val_cosine_similarity: 0.9812 - val_mean_absolute_error: 0.0048 - lr: 0.0014\n",
            "Epoch 85/200\n",
            "297/297 [==============================] - 3s 12ms/step - loss: -0.9712 - cosine_similarity: 0.9784 - mean_absolute_error: 0.0061 - val_loss: -0.9746 - val_cosine_similarity: 0.9813 - val_mean_absolute_error: 0.0047 - lr: 0.0014\n",
            "Epoch 86/200\n",
            "297/297 [==============================] - 3s 12ms/step - loss: -0.9715 - cosine_similarity: 0.9787 - mean_absolute_error: 0.0061 - val_loss: -0.9748 - val_cosine_similarity: 0.9814 - val_mean_absolute_error: 0.0048 - lr: 0.0014\n",
            "Epoch 87/200\n",
            "297/297 [==============================] - 3s 12ms/step - loss: -0.9716 - cosine_similarity: 0.9788 - mean_absolute_error: 0.0061 - val_loss: -0.9747 - val_cosine_similarity: 0.9814 - val_mean_absolute_error: 0.0047 - lr: 0.0014\n",
            "Epoch 88/200\n",
            "297/297 [==============================] - 3s 12ms/step - loss: -0.9718 - cosine_similarity: 0.9790 - mean_absolute_error: 0.0060 - val_loss: -0.9749 - val_cosine_similarity: 0.9815 - val_mean_absolute_error: 0.0047 - lr: 0.0014\n",
            "Epoch 89/200\n",
            "297/297 [==============================] - 3s 12ms/step - loss: -0.9718 - cosine_similarity: 0.9789 - mean_absolute_error: 0.0060 - val_loss: -0.9750 - val_cosine_similarity: 0.9816 - val_mean_absolute_error: 0.0047 - lr: 0.0014\n",
            "Epoch 90/200\n",
            "297/297 [==============================] - 3s 12ms/step - loss: -0.9720 - cosine_similarity: 0.9791 - mean_absolute_error: 0.0060 - val_loss: -0.9751 - val_cosine_similarity: 0.9817 - val_mean_absolute_error: 0.0047 - lr: 0.0014\n",
            "Epoch 91/200\n",
            "297/297 [==============================] - 3s 11ms/step - loss: -0.9719 - cosine_similarity: 0.9791 - mean_absolute_error: 0.0060 - val_loss: -0.9751 - val_cosine_similarity: 0.9817 - val_mean_absolute_error: 0.0046 - lr: 0.0014\n",
            "Epoch 92/200\n",
            "297/297 [==============================] - 4s 12ms/step - loss: -0.9720 - cosine_similarity: 0.9791 - mean_absolute_error: 0.0060 - val_loss: -0.9752 - val_cosine_similarity: 0.9818 - val_mean_absolute_error: 0.0046 - lr: 0.0014\n",
            "Epoch 93/200\n",
            "297/297 [==============================] - 3s 12ms/step - loss: -0.9725 - cosine_similarity: 0.9796 - mean_absolute_error: 0.0059 - val_loss: -0.9756 - val_cosine_similarity: 0.9821 - val_mean_absolute_error: 0.0046 - lr: 0.0010\n",
            "Epoch 94/200\n",
            "297/297 [==============================] - 3s 11ms/step - loss: -0.9727 - cosine_similarity: 0.9797 - mean_absolute_error: 0.0059 - val_loss: -0.9756 - val_cosine_similarity: 0.9821 - val_mean_absolute_error: 0.0046 - lr: 0.0010\n",
            "Epoch 95/200\n",
            "297/297 [==============================] - 4s 12ms/step - loss: -0.9727 - cosine_similarity: 0.9797 - mean_absolute_error: 0.0059 - val_loss: -0.9756 - val_cosine_similarity: 0.9821 - val_mean_absolute_error: 0.0046 - lr: 0.0010\n",
            "Epoch 96/200\n",
            "297/297 [==============================] - 3s 12ms/step - loss: -0.9731 - cosine_similarity: 0.9801 - mean_absolute_error: 0.0058 - val_loss: -0.9759 - val_cosine_similarity: 0.9823 - val_mean_absolute_error: 0.0045 - lr: 7.0589e-04\n",
            "Epoch 97/200\n",
            "297/297 [==============================] - 3s 11ms/step - loss: -0.9732 - cosine_similarity: 0.9801 - mean_absolute_error: 0.0058 - val_loss: -0.9760 - val_cosine_similarity: 0.9824 - val_mean_absolute_error: 0.0045 - lr: 7.0589e-04\n",
            "Epoch 98/200\n",
            "297/297 [==============================] - 4s 12ms/step - loss: -0.9733 - cosine_similarity: 0.9802 - mean_absolute_error: 0.0058 - val_loss: -0.9761 - val_cosine_similarity: 0.9825 - val_mean_absolute_error: 0.0045 - lr: 7.0589e-04\n",
            "Epoch 99/200\n",
            "297/297 [==============================] - 3s 11ms/step - loss: -0.9734 - cosine_similarity: 0.9803 - mean_absolute_error: 0.0058 - val_loss: -0.9760 - val_cosine_similarity: 0.9825 - val_mean_absolute_error: 0.0045 - lr: 7.0589e-04\n",
            "Epoch 100/200\n",
            "297/297 [==============================] - 4s 12ms/step - loss: -0.9733 - cosine_similarity: 0.9802 - mean_absolute_error: 0.0058 - val_loss: -0.9762 - val_cosine_similarity: 0.9826 - val_mean_absolute_error: 0.0045 - lr: 7.0589e-04\n",
            "Epoch 101/200\n",
            "297/297 [==============================] - 3s 12ms/step - loss: -0.9736 - cosine_similarity: 0.9805 - mean_absolute_error: 0.0057 - val_loss: -0.9763 - val_cosine_similarity: 0.9827 - val_mean_absolute_error: 0.0045 - lr: 4.9413e-04\n",
            "Epoch 102/200\n",
            "297/297 [==============================] - 3s 12ms/step - loss: -0.9738 - cosine_similarity: 0.9807 - mean_absolute_error: 0.0057 - val_loss: -0.9764 - val_cosine_similarity: 0.9827 - val_mean_absolute_error: 0.0044 - lr: 4.9413e-04\n",
            "Epoch 103/200\n",
            "297/297 [==============================] - 3s 12ms/step - loss: -0.9738 - cosine_similarity: 0.9806 - mean_absolute_error: 0.0057 - val_loss: -0.9764 - val_cosine_similarity: 0.9828 - val_mean_absolute_error: 0.0044 - lr: 4.9413e-04\n",
            "Epoch 104/200\n",
            "297/297 [==============================] - 3s 12ms/step - loss: -0.9739 - cosine_similarity: 0.9807 - mean_absolute_error: 0.0057 - val_loss: -0.9765 - val_cosine_similarity: 0.9828 - val_mean_absolute_error: 0.0044 - lr: 3.4589e-04\n",
            "Epoch 105/200\n",
            "297/297 [==============================] - 3s 11ms/step - loss: -0.9741 - cosine_similarity: 0.9809 - mean_absolute_error: 0.0057 - val_loss: -0.9765 - val_cosine_similarity: 0.9828 - val_mean_absolute_error: 0.0044 - lr: 3.4589e-04\n",
            "Epoch 106/200\n",
            "297/297 [==============================] - 3s 12ms/step - loss: -0.9740 - cosine_similarity: 0.9808 - mean_absolute_error: 0.0057 - val_loss: -0.9765 - val_cosine_similarity: 0.9828 - val_mean_absolute_error: 0.0044 - lr: 3.4589e-04\n",
            "Epoch 107/200\n",
            "297/297 [==============================] - 3s 12ms/step - loss: -0.9741 - cosine_similarity: 0.9809 - mean_absolute_error: 0.0057 - val_loss: -0.9766 - val_cosine_similarity: 0.9829 - val_mean_absolute_error: 0.0044 - lr: 2.4212e-04\n",
            "Epoch 108/200\n",
            "297/297 [==============================] - 3s 11ms/step - loss: -0.9742 - cosine_similarity: 0.9810 - mean_absolute_error: 0.0056 - val_loss: -0.9766 - val_cosine_similarity: 0.9829 - val_mean_absolute_error: 0.0044 - lr: 2.4212e-04\n",
            "Epoch 109/200\n",
            "297/297 [==============================] - 3s 11ms/step - loss: -0.9743 - cosine_similarity: 0.9810 - mean_absolute_error: 0.0056 - val_loss: -0.9766 - val_cosine_similarity: 0.9830 - val_mean_absolute_error: 0.0044 - lr: 1.6949e-04\n",
            "Epoch 110/200\n",
            "297/297 [==============================] - 3s 12ms/step - loss: -0.9743 - cosine_similarity: 0.9810 - mean_absolute_error: 0.0056 - val_loss: -0.9766 - val_cosine_similarity: 0.9830 - val_mean_absolute_error: 0.0044 - lr: 1.6949e-04\n",
            "Epoch 111/200\n",
            "297/297 [==============================] - 4s 12ms/step - loss: -0.9744 - cosine_similarity: 0.9811 - mean_absolute_error: 0.0056 - val_loss: -0.9767 - val_cosine_similarity: 0.9830 - val_mean_absolute_error: 0.0044 - lr: 1.6949e-04\n",
            "Epoch 112/200\n",
            "297/297 [==============================] - 3s 11ms/step - loss: -0.9744 - cosine_similarity: 0.9811 - mean_absolute_error: 0.0056 - val_loss: -0.9767 - val_cosine_similarity: 0.9830 - val_mean_absolute_error: 0.0043 - lr: 1.1864e-04\n",
            "Epoch 113/200\n",
            "297/297 [==============================] - 3s 11ms/step - loss: -0.9744 - cosine_similarity: 0.9811 - mean_absolute_error: 0.0056 - val_loss: -0.9768 - val_cosine_similarity: 0.9830 - val_mean_absolute_error: 0.0044 - lr: 1.1864e-04\n",
            "Epoch 114/200\n",
            "297/297 [==============================] - 3s 12ms/step - loss: -0.9744 - cosine_similarity: 0.9812 - mean_absolute_error: 0.0056 - val_loss: -0.9768 - val_cosine_similarity: 0.9831 - val_mean_absolute_error: 0.0044 - lr: 8.3048e-05\n",
            "Epoch 115/200\n",
            "297/297 [==============================] - 3s 11ms/step - loss: -0.9744 - cosine_similarity: 0.9812 - mean_absolute_error: 0.0056 - val_loss: -0.9768 - val_cosine_similarity: 0.9831 - val_mean_absolute_error: 0.0044 - lr: 8.3048e-05\n",
            "Epoch 116/200\n",
            "297/297 [==============================] - 3s 12ms/step - loss: -0.9744 - cosine_similarity: 0.9812 - mean_absolute_error: 0.0056 - val_loss: -0.9768 - val_cosine_similarity: 0.9830 - val_mean_absolute_error: 0.0044 - lr: 8.3048e-05\n",
            "Epoch 117/200\n",
            "297/297 [==============================] - 3s 12ms/step - loss: -0.9746 - cosine_similarity: 0.9813 - mean_absolute_error: 0.0056 - val_loss: -0.9768 - val_cosine_similarity: 0.9831 - val_mean_absolute_error: 0.0044 - lr: 5.8133e-05\n",
            "Epoch 118/200\n",
            "297/297 [==============================] - 3s 11ms/step - loss: -0.9745 - cosine_similarity: 0.9812 - mean_absolute_error: 0.0056 - val_loss: -0.9768 - val_cosine_similarity: 0.9831 - val_mean_absolute_error: 0.0043 - lr: 5.8133e-05\n",
            "Epoch 119/200\n",
            "297/297 [==============================] - 4s 12ms/step - loss: -0.9746 - cosine_similarity: 0.9813 - mean_absolute_error: 0.0056 - val_loss: -0.9768 - val_cosine_similarity: 0.9831 - val_mean_absolute_error: 0.0044 - lr: 5.0000e-05\n",
            "Epoch 120/200\n",
            "297/297 [==============================] - 3s 12ms/step - loss: -0.9746 - cosine_similarity: 0.9813 - mean_absolute_error: 0.0056 - val_loss: -0.9768 - val_cosine_similarity: 0.9831 - val_mean_absolute_error: 0.0043 - lr: 5.0000e-05\n",
            "Epoch 121/200\n",
            "297/297 [==============================] - 3s 11ms/step - loss: -0.9746 - cosine_similarity: 0.9813 - mean_absolute_error: 0.0056 - val_loss: -0.9768 - val_cosine_similarity: 0.9831 - val_mean_absolute_error: 0.0044 - lr: 5.0000e-05\n",
            "Epoch 122/200\n",
            "297/297 [==============================] - 3s 12ms/step - loss: -0.9746 - cosine_similarity: 0.9813 - mean_absolute_error: 0.0056 - val_loss: -0.9768 - val_cosine_similarity: 0.9831 - val_mean_absolute_error: 0.0044 - lr: 5.0000e-05\n",
            "Epoch 123/200\n",
            "297/297 [==============================] - 4s 12ms/step - loss: -0.9746 - cosine_similarity: 0.9813 - mean_absolute_error: 0.0056 - val_loss: -0.9768 - val_cosine_similarity: 0.9831 - val_mean_absolute_error: 0.0043 - lr: 5.0000e-05\n",
            "Epoch 124/200\n",
            "297/297 [==============================] - 3s 12ms/step - loss: -0.9747 - cosine_similarity: 0.9814 - mean_absolute_error: 0.0056 - val_loss: -0.9768 - val_cosine_similarity: 0.9831 - val_mean_absolute_error: 0.0043 - lr: 5.0000e-05\n",
            "Epoch 125/200\n",
            "297/297 [==============================] - 3s 12ms/step - loss: -0.9747 - cosine_similarity: 0.9814 - mean_absolute_error: 0.0056 - val_loss: -0.9769 - val_cosine_similarity: 0.9831 - val_mean_absolute_error: 0.0043 - lr: 5.0000e-05\n",
            "Epoch 126/200\n",
            "297/297 [==============================] - 3s 11ms/step - loss: -0.9746 - cosine_similarity: 0.9813 - mean_absolute_error: 0.0056 - val_loss: -0.9769 - val_cosine_similarity: 0.9831 - val_mean_absolute_error: 0.0043 - lr: 5.0000e-05\n",
            "Epoch 127/200\n",
            "297/297 [==============================] - 3s 12ms/step - loss: -0.9746 - cosine_similarity: 0.9813 - mean_absolute_error: 0.0056 - val_loss: -0.9769 - val_cosine_similarity: 0.9831 - val_mean_absolute_error: 0.0043 - lr: 5.0000e-05\n",
            "Epoch 128/200\n",
            "297/297 [==============================] - 3s 12ms/step - loss: -0.9746 - cosine_similarity: 0.9813 - mean_absolute_error: 0.0056 - val_loss: -0.9769 - val_cosine_similarity: 0.9831 - val_mean_absolute_error: 0.0043 - lr: 5.0000e-05\n",
            "Epoch 129/200\n",
            "297/297 [==============================] - 3s 11ms/step - loss: -0.9746 - cosine_similarity: 0.9813 - mean_absolute_error: 0.0056 - val_loss: -0.9769 - val_cosine_similarity: 0.9831 - val_mean_absolute_error: 0.0043 - lr: 5.0000e-05\n",
            "Epoch 130/200\n",
            "297/297 [==============================] - 3s 12ms/step - loss: -0.9745 - cosine_similarity: 0.9812 - mean_absolute_error: 0.0056 - val_loss: -0.9769 - val_cosine_similarity: 0.9831 - val_mean_absolute_error: 0.0043 - lr: 5.0000e-05\n",
            "Epoch 131/200\n",
            "297/297 [==============================] - 3s 11ms/step - loss: -0.9746 - cosine_similarity: 0.9813 - mean_absolute_error: 0.0056 - val_loss: -0.9769 - val_cosine_similarity: 0.9831 - val_mean_absolute_error: 0.0043 - lr: 5.0000e-05\n",
            "Epoch 132/200\n",
            "297/297 [==============================] - 3s 11ms/step - loss: -0.9746 - cosine_similarity: 0.9813 - mean_absolute_error: 0.0056 - val_loss: -0.9769 - val_cosine_similarity: 0.9831 - val_mean_absolute_error: 0.0043 - lr: 5.0000e-05\n",
            "Epoch 133/200\n",
            "297/297 [==============================] - 3s 12ms/step - loss: -0.9747 - cosine_similarity: 0.9814 - mean_absolute_error: 0.0055 - val_loss: -0.9769 - val_cosine_similarity: 0.9831 - val_mean_absolute_error: 0.0043 - lr: 5.0000e-05\n",
            "Epoch 134/200\n",
            "297/297 [==============================] - 3s 11ms/step - loss: -0.9746 - cosine_similarity: 0.9813 - mean_absolute_error: 0.0056 - val_loss: -0.9769 - val_cosine_similarity: 0.9831 - val_mean_absolute_error: 0.0043 - lr: 5.0000e-05\n",
            "Epoch 135/200\n",
            "297/297 [==============================] - 4s 12ms/step - loss: -0.9747 - cosine_similarity: 0.9814 - mean_absolute_error: 0.0056 - val_loss: -0.9769 - val_cosine_similarity: 0.9832 - val_mean_absolute_error: 0.0043 - lr: 5.0000e-05\n"
          ]
        },
        {
          "data": {
            "text/plain": [
              "<keras.callbacks.History at 0x7f96449ec310>"
            ]
          },
          "execution_count": 15,
          "metadata": {},
          "output_type": "execute_result"
        }
      ],
      "source": [
        "ae.fit(\n",
        "    train,\n",
        "    train, \n",
        "    batch_size=64,\n",
        "    validation_data=(test,test),\n",
        "    epochs=5 if just_checking_integrity else 200,\n",
        "    shuffle=True,\n",
        "    callbacks=[\n",
        "            tf.keras.callbacks.EarlyStopping(\n",
        "                monitor='cosine_similarity',\n",
        "                patience=10,\n",
        "                restore_best_weights=True,\n",
        "                mode=\"max\"\n",
        "            ),\n",
        "            tf.keras.callbacks.ReduceLROnPlateau(\n",
        "                monitor='val_cosine_similarity',\n",
        "                factor=0.7,\n",
        "                patience=2,\n",
        "                min_lr=5e-5,\n",
        "                mode=\"max\",\n",
        "                min_delta=0.0001,\n",
        "            )\n",
        "        ]\n",
        "    )"
      ]
    },
    {
      "cell_type": "code",
      "execution_count": 16,
      "metadata": {
        "id": "Tg3gvuN8mpzC"
      },
      "outputs": [
        {
          "name": "stderr",
          "output_type": "stream",
          "text": [
            "2024-02-19 18:24:42.439812: W tensorflow/core/framework/cpu_allocator_impl.cc:82] Allocation of 120544896 exceeds 10% of free system memory.\n",
            "2024-02-19 18:24:42.489187: W tensorflow/core/framework/cpu_allocator_impl.cc:82] Allocation of 60272448 exceeds 10% of free system memory.\n",
            "2024-02-19 18:24:42.531448: W tensorflow/core/framework/cpu_allocator_impl.cc:82] Allocation of 48521216 exceeds 10% of free system memory.\n"
          ]
        }
      ],
      "source": [
        "temp=encoder(dataset)"
      ]
    },
    {
      "cell_type": "code",
      "execution_count": 17,
      "metadata": {
        "colab": {
          "base_uri": "https://localhost:8080/"
        },
        "id": "HZTvwE1TLWOG",
        "outputId": "aa30495d-1a9c-4535-bd99-9d6b86031c75"
      },
      "outputs": [
        {
          "data": {
            "text/plain": [
              "TensorShape([23692, 64])"
            ]
          },
          "execution_count": 17,
          "metadata": {},
          "output_type": "execute_result"
        }
      ],
      "source": [
        "temp.shape"
      ]
    },
    {
      "cell_type": "code",
      "execution_count": 18,
      "metadata": {
        "id": "MDa2sbTaROWr"
      },
      "outputs": [
        {
          "data": {
            "text/plain": [
              "<tf.Tensor: shape=(23692, 64), dtype=float32, numpy=\n",
              "array([[-0.02569672, -0.04465982,  0.04233517, ...,  0.02195858,\n",
              "         0.00406342,  0.00727194],\n",
              "       [ 0.01188441,  0.09571718,  0.27183083, ..., -0.05592808,\n",
              "        -0.1315058 ,  0.10294587],\n",
              "       [-0.04093751,  0.01779453,  0.09653322, ...,  0.00493379,\n",
              "        -0.05013884,  0.00424234],\n",
              "       ...,\n",
              "       [-0.00145441, -0.09328362,  0.14141937, ..., -0.05779222,\n",
              "        -0.07302618, -0.01466742],\n",
              "       [ 0.03092937,  0.1346339 , -0.02694407, ..., -0.10221646,\n",
              "        -0.02603671, -0.11175551],\n",
              "       [ 0.00837145,  0.16141906,  0.01974098, ..., -0.00808643,\n",
              "        -0.0482159 , -0.11793464]], dtype=float32)>"
            ]
          },
          "execution_count": 18,
          "metadata": {},
          "output_type": "execute_result"
        }
      ],
      "source": [
        "temp"
      ]
    },
    {
      "cell_type": "code",
      "execution_count": 19,
      "metadata": {
        "colab": {
          "base_uri": "https://localhost:8080/"
        },
        "id": "n-ig2ac3nwSt",
        "outputId": "7b1e3aff-f035-40a2-f991-58bb70faa83e"
      },
      "outputs": [
        {
          "data": {
            "text/plain": [
              "(4.421576, -4.1391034, 1.0844337)"
            ]
          },
          "execution_count": 19,
          "metadata": {},
          "output_type": "execute_result"
        }
      ],
      "source": [
        "tf.reduce_sum(temp,axis=1).numpy().max(),tf.reduce_sum(temp,axis=1).numpy().min(),tf.reduce_sum(temp,axis=1).numpy().std()"
      ]
    },
    {
      "cell_type": "code",
      "execution_count": 20,
      "metadata": {
        "id": "yb0eE4AX8YsR"
      },
      "outputs": [],
      "source": [
        "np.save('../dataset/processed_data/compressed_features', encoder(dataset))"
      ]
    }
  ],
  "metadata": {
    "colab": {
      "collapsed_sections": [
        "N4VfhKeUsWxY",
        "HJzIzAFy198k",
        "d3nCfuxMKi8X"
      ],
      "name": "Copia di Recsys_VAE.ipynb",
      "provenance": []
    },
    "kernelspec": {
      "display_name": "Python 3.7.0 ('sub_env')",
      "language": "python",
      "name": "python3"
    },
    "language_info": {
      "codemirror_mode": {
        "name": "ipython",
        "version": 3
      },
      "file_extension": ".py",
      "mimetype": "text/x-python",
      "name": "python",
      "nbconvert_exporter": "python",
      "pygments_lexer": "ipython3",
      "version": "3.10.13"
    },
    "vscode": {
      "interpreter": {
        "hash": "61f38fddaed46afda7c40a5798d4631266e18af1d335aa6f772dc3ed9b8ab549"
      }
    }
  },
  "nbformat": 4,
  "nbformat_minor": 0
}
